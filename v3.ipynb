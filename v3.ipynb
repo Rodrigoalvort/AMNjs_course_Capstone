{
  "nbformat": 4,
  "nbformat_minor": 0,
  "metadata": {
    "colab": {
      "name": "v3.ipynb",
      "provenance": [],
      "collapsed_sections": [],
      "machine_shape": "hm",
      "include_colab_link": true
    },
    "kernelspec": {
      "name": "python3",
      "display_name": "Python 3"
    }
  },
  "cells": [
    {
      "cell_type": "markdown",
      "metadata": {
        "id": "view-in-github",
        "colab_type": "text"
      },
      "source": [
        "<a href=\"https://colab.research.google.com/github/Rodrigoalvort/AMNjs_course_Capstone/blob/master/v3.ipynb\" target=\"_parent\"><img src=\"https://colab.research.google.com/assets/colab-badge.svg\" alt=\"Open In Colab\"/></a>"
      ]
    },
    {
      "cell_type": "markdown",
      "metadata": {
        "id": "r2w6FZCod8-I",
        "colab_type": "text"
      },
      "source": [
        "# Importar librerias"
      ]
    },
    {
      "cell_type": "code",
      "metadata": {
        "id": "FCCpBslZMNGl",
        "colab_type": "code",
        "outputId": "82a3c17d-8a9e-48bf-a92f-e5542371d0ca",
        "colab": {
          "base_uri": "https://localhost:8080/",
          "height": 176
        }
      },
      "source": [
        "!pip install pytube3\n",
        "!pip install imagehash\n",
        "import cv2\n",
        "import numpy as np\n",
        "import matplotlib.pyplot as plt\n",
        "from PIL import Image, ImageDraw, ImageFont\n",
        "from glob import glob\n",
        "from google.colab import files\n",
        "# %no tensorflow_version 1.x\n",
        "%tensorflow_version 2.x\n",
        "from tensorflow import keras\n",
        "from tensorflow.keras.layers import Dense, Dropout, Flatten\n",
        "from tensorflow.keras import Input\n",
        "from tensorflow.keras.layers import Conv2D, MaxPooling2D,BatchNormalization,ReLU\n",
        "from tensorflow.keras.optimizers import SGD\n",
        "import math,time\n",
        "from tensorflow.keras.models import Model\n",
        "from tensorflow.keras.utils import to_categorical\n",
        "from tensorflow.keras import backend as k\n",
        "import tensorflow\n",
        "import random\n",
        "from google.colab import drive\n",
        "import tensorflow as tf\n",
        "from IPython.display import HTML\n",
        "from base64 import b64encode\n",
        "from pytube import Playlist,YouTube\n",
        "from multiprocessing import Process, Queue\n",
        "from PIL import Image\n",
        "from google.colab import drive\n",
        "import imagehash\n",
        "\n",
        "print(tf.__version__)"
      ],
      "execution_count": 1,
      "outputs": [
        {
          "output_type": "stream",
          "text": [
            "Requirement already satisfied: pytube3 in /usr/local/lib/python3.6/dist-packages (9.6.4)\n",
            "Requirement already satisfied: typing-extensions in /usr/local/lib/python3.6/dist-packages (from pytube3) (3.6.6)\n",
            "Requirement already satisfied: imagehash in /usr/local/lib/python3.6/dist-packages (4.1.0)\n",
            "Requirement already satisfied: scipy in /usr/local/lib/python3.6/dist-packages (from imagehash) (1.4.1)\n",
            "Requirement already satisfied: pillow in /usr/local/lib/python3.6/dist-packages (from imagehash) (7.0.0)\n",
            "Requirement already satisfied: six in /usr/local/lib/python3.6/dist-packages (from imagehash) (1.12.0)\n",
            "Requirement already satisfied: numpy in /usr/local/lib/python3.6/dist-packages (from imagehash) (1.18.4)\n",
            "Requirement already satisfied: PyWavelets in /usr/local/lib/python3.6/dist-packages (from imagehash) (1.1.1)\n",
            "2.2.0\n"
          ],
          "name": "stdout"
        }
      ]
    },
    {
      "cell_type": "code",
      "metadata": {
        "id": "rLbL9QXLHANa",
        "colab_type": "code",
        "outputId": "ae575f08-1f04-4369-8320-9100e139feb7",
        "colab": {
          "base_uri": "https://localhost:8080/",
          "height": 387
        }
      },
      "source": [
        "playlist = Playlist(\"https://www.youtube.com/playlist?list=PLomN84AdULID9R9fvCu655Zfr5O1nQ3yD\")\n",
        "for video in playlist:\n",
        "  try:\n",
        "    yt =YouTube(video)\n",
        "\n",
        "    a = yt.streams.get_highest_resolution()\n",
        "    # time.sleep(1)\n",
        "    a.download()\n",
        "  except:\n",
        "    pass"
      ],
      "execution_count": 2,
      "outputs": [
        {
          "output_type": "error",
          "ename": "HTTPError",
          "evalue": "ignored",
          "traceback": [
            "\u001b[0;31m---------------------------------------------------------------------------\u001b[0m",
            "\u001b[0;31mHTTPError\u001b[0m                                 Traceback (most recent call last)",
            "\u001b[0;32m<ipython-input-2-760216a1027f>\u001b[0m in \u001b[0;36m<module>\u001b[0;34m()\u001b[0m\n\u001b[0;32m----> 1\u001b[0;31m \u001b[0mplaylist\u001b[0m \u001b[0;34m=\u001b[0m \u001b[0mPlaylist\u001b[0m\u001b[0;34m(\u001b[0m\u001b[0;34m\"https://www.youtube.com/playlist?list=PLomN84AdULID9R9fvCu655Zfr5O1nQ3yD\"\u001b[0m\u001b[0;34m)\u001b[0m\u001b[0;34m\u001b[0m\u001b[0;34m\u001b[0m\u001b[0m\n\u001b[0m\u001b[1;32m      2\u001b[0m \u001b[0;32mfor\u001b[0m \u001b[0mvideo\u001b[0m \u001b[0;32min\u001b[0m \u001b[0mplaylist\u001b[0m\u001b[0;34m:\u001b[0m\u001b[0;34m\u001b[0m\u001b[0;34m\u001b[0m\u001b[0m\n\u001b[1;32m      3\u001b[0m   \u001b[0;32mtry\u001b[0m\u001b[0;34m:\u001b[0m\u001b[0;34m\u001b[0m\u001b[0;34m\u001b[0m\u001b[0m\n\u001b[1;32m      4\u001b[0m     \u001b[0myt\u001b[0m \u001b[0;34m=\u001b[0m\u001b[0mYouTube\u001b[0m\u001b[0;34m(\u001b[0m\u001b[0mvideo\u001b[0m\u001b[0;34m)\u001b[0m\u001b[0;34m\u001b[0m\u001b[0;34m\u001b[0m\u001b[0m\n\u001b[1;32m      5\u001b[0m \u001b[0;34m\u001b[0m\u001b[0m\n",
            "\u001b[0;32m/usr/local/lib/python3.6/dist-packages/pytube/contrib/playlist.py\u001b[0m in \u001b[0;36m__init__\u001b[0;34m(self, url, proxies)\u001b[0m\n\u001b[1;32m     30\u001b[0m \u001b[0;34m\u001b[0m\u001b[0m\n\u001b[1;32m     31\u001b[0m         \u001b[0mself\u001b[0m\u001b[0;34m.\u001b[0m\u001b[0mplaylist_url\u001b[0m \u001b[0;34m=\u001b[0m \u001b[0;34mf\"https://www.youtube.com/playlist?list={self.playlist_id}\"\u001b[0m\u001b[0;34m\u001b[0m\u001b[0;34m\u001b[0m\u001b[0m\n\u001b[0;32m---> 32\u001b[0;31m         \u001b[0mself\u001b[0m\u001b[0;34m.\u001b[0m\u001b[0mhtml\u001b[0m \u001b[0;34m=\u001b[0m \u001b[0mrequest\u001b[0m\u001b[0;34m.\u001b[0m\u001b[0mget\u001b[0m\u001b[0;34m(\u001b[0m\u001b[0mself\u001b[0m\u001b[0;34m.\u001b[0m\u001b[0mplaylist_url\u001b[0m\u001b[0;34m)\u001b[0m\u001b[0;34m\u001b[0m\u001b[0;34m\u001b[0m\u001b[0m\n\u001b[0m\u001b[1;32m     33\u001b[0m \u001b[0;34m\u001b[0m\u001b[0m\n\u001b[1;32m     34\u001b[0m         \u001b[0;31m# Needs testing with non-English\u001b[0m\u001b[0;34m\u001b[0m\u001b[0;34m\u001b[0m\u001b[0;34m\u001b[0m\u001b[0m\n",
            "\u001b[0;32m/usr/local/lib/python3.6/dist-packages/pytube/request.py\u001b[0m in \u001b[0;36mget\u001b[0;34m(url)\u001b[0m\n\u001b[1;32m     34\u001b[0m         \u001b[0mUTF\u001b[0m\u001b[0;34m-\u001b[0m\u001b[0;36m8\u001b[0m \u001b[0mencoded\u001b[0m \u001b[0mstring\u001b[0m \u001b[0mof\u001b[0m \u001b[0mresponse\u001b[0m\u001b[0;34m\u001b[0m\u001b[0;34m\u001b[0m\u001b[0m\n\u001b[1;32m     35\u001b[0m     \"\"\"\n\u001b[0;32m---> 36\u001b[0;31m     \u001b[0;32mreturn\u001b[0m \u001b[0m_execute_request\u001b[0m\u001b[0;34m(\u001b[0m\u001b[0murl\u001b[0m\u001b[0;34m)\u001b[0m\u001b[0;34m.\u001b[0m\u001b[0mread\u001b[0m\u001b[0;34m(\u001b[0m\u001b[0;34m)\u001b[0m\u001b[0;34m.\u001b[0m\u001b[0mdecode\u001b[0m\u001b[0;34m(\u001b[0m\u001b[0;34m\"utf-8\"\u001b[0m\u001b[0;34m)\u001b[0m\u001b[0;34m\u001b[0m\u001b[0;34m\u001b[0m\u001b[0m\n\u001b[0m\u001b[1;32m     37\u001b[0m \u001b[0;34m\u001b[0m\u001b[0m\n\u001b[1;32m     38\u001b[0m \u001b[0;34m\u001b[0m\u001b[0m\n",
            "\u001b[0;32m/usr/local/lib/python3.6/dist-packages/pytube/request.py\u001b[0m in \u001b[0;36m_execute_request\u001b[0;34m(url, method, headers)\u001b[0m\n\u001b[1;32m     22\u001b[0m     \u001b[0;32melse\u001b[0m\u001b[0;34m:\u001b[0m\u001b[0;34m\u001b[0m\u001b[0;34m\u001b[0m\u001b[0m\n\u001b[1;32m     23\u001b[0m         \u001b[0;32mraise\u001b[0m \u001b[0mValueError\u001b[0m\u001b[0;34m(\u001b[0m\u001b[0;34m\"Invalid URL\"\u001b[0m\u001b[0;34m)\u001b[0m\u001b[0;34m\u001b[0m\u001b[0;34m\u001b[0m\u001b[0m\n\u001b[0;32m---> 24\u001b[0;31m     \u001b[0;32mreturn\u001b[0m \u001b[0murlopen\u001b[0m\u001b[0;34m(\u001b[0m\u001b[0mrequest\u001b[0m\u001b[0;34m)\u001b[0m  \u001b[0;31m# nosec\u001b[0m\u001b[0;34m\u001b[0m\u001b[0;34m\u001b[0m\u001b[0m\n\u001b[0m\u001b[1;32m     25\u001b[0m \u001b[0;34m\u001b[0m\u001b[0m\n\u001b[1;32m     26\u001b[0m \u001b[0;34m\u001b[0m\u001b[0m\n",
            "\u001b[0;32m/usr/lib/python3.6/urllib/request.py\u001b[0m in \u001b[0;36murlopen\u001b[0;34m(url, data, timeout, cafile, capath, cadefault, context)\u001b[0m\n\u001b[1;32m    221\u001b[0m     \u001b[0;32melse\u001b[0m\u001b[0;34m:\u001b[0m\u001b[0;34m\u001b[0m\u001b[0;34m\u001b[0m\u001b[0m\n\u001b[1;32m    222\u001b[0m         \u001b[0mopener\u001b[0m \u001b[0;34m=\u001b[0m \u001b[0m_opener\u001b[0m\u001b[0;34m\u001b[0m\u001b[0;34m\u001b[0m\u001b[0m\n\u001b[0;32m--> 223\u001b[0;31m     \u001b[0;32mreturn\u001b[0m \u001b[0mopener\u001b[0m\u001b[0;34m.\u001b[0m\u001b[0mopen\u001b[0m\u001b[0;34m(\u001b[0m\u001b[0murl\u001b[0m\u001b[0;34m,\u001b[0m \u001b[0mdata\u001b[0m\u001b[0;34m,\u001b[0m \u001b[0mtimeout\u001b[0m\u001b[0;34m)\u001b[0m\u001b[0;34m\u001b[0m\u001b[0;34m\u001b[0m\u001b[0m\n\u001b[0m\u001b[1;32m    224\u001b[0m \u001b[0;34m\u001b[0m\u001b[0m\n\u001b[1;32m    225\u001b[0m \u001b[0;32mdef\u001b[0m \u001b[0minstall_opener\u001b[0m\u001b[0;34m(\u001b[0m\u001b[0mopener\u001b[0m\u001b[0;34m)\u001b[0m\u001b[0;34m:\u001b[0m\u001b[0;34m\u001b[0m\u001b[0;34m\u001b[0m\u001b[0m\n",
            "\u001b[0;32m/usr/lib/python3.6/urllib/request.py\u001b[0m in \u001b[0;36mopen\u001b[0;34m(self, fullurl, data, timeout)\u001b[0m\n\u001b[1;32m    530\u001b[0m         \u001b[0;32mfor\u001b[0m \u001b[0mprocessor\u001b[0m \u001b[0;32min\u001b[0m \u001b[0mself\u001b[0m\u001b[0;34m.\u001b[0m\u001b[0mprocess_response\u001b[0m\u001b[0;34m.\u001b[0m\u001b[0mget\u001b[0m\u001b[0;34m(\u001b[0m\u001b[0mprotocol\u001b[0m\u001b[0;34m,\u001b[0m \u001b[0;34m[\u001b[0m\u001b[0;34m]\u001b[0m\u001b[0;34m)\u001b[0m\u001b[0;34m:\u001b[0m\u001b[0;34m\u001b[0m\u001b[0;34m\u001b[0m\u001b[0m\n\u001b[1;32m    531\u001b[0m             \u001b[0mmeth\u001b[0m \u001b[0;34m=\u001b[0m \u001b[0mgetattr\u001b[0m\u001b[0;34m(\u001b[0m\u001b[0mprocessor\u001b[0m\u001b[0;34m,\u001b[0m \u001b[0mmeth_name\u001b[0m\u001b[0;34m)\u001b[0m\u001b[0;34m\u001b[0m\u001b[0;34m\u001b[0m\u001b[0m\n\u001b[0;32m--> 532\u001b[0;31m             \u001b[0mresponse\u001b[0m \u001b[0;34m=\u001b[0m \u001b[0mmeth\u001b[0m\u001b[0;34m(\u001b[0m\u001b[0mreq\u001b[0m\u001b[0;34m,\u001b[0m \u001b[0mresponse\u001b[0m\u001b[0;34m)\u001b[0m\u001b[0;34m\u001b[0m\u001b[0;34m\u001b[0m\u001b[0m\n\u001b[0m\u001b[1;32m    533\u001b[0m \u001b[0;34m\u001b[0m\u001b[0m\n\u001b[1;32m    534\u001b[0m         \u001b[0;32mreturn\u001b[0m \u001b[0mresponse\u001b[0m\u001b[0;34m\u001b[0m\u001b[0;34m\u001b[0m\u001b[0m\n",
            "\u001b[0;32m/usr/lib/python3.6/urllib/request.py\u001b[0m in \u001b[0;36mhttp_response\u001b[0;34m(self, request, response)\u001b[0m\n\u001b[1;32m    640\u001b[0m         \u001b[0;32mif\u001b[0m \u001b[0;32mnot\u001b[0m \u001b[0;34m(\u001b[0m\u001b[0;36m200\u001b[0m \u001b[0;34m<=\u001b[0m \u001b[0mcode\u001b[0m \u001b[0;34m<\u001b[0m \u001b[0;36m300\u001b[0m\u001b[0;34m)\u001b[0m\u001b[0;34m:\u001b[0m\u001b[0;34m\u001b[0m\u001b[0;34m\u001b[0m\u001b[0m\n\u001b[1;32m    641\u001b[0m             response = self.parent.error(\n\u001b[0;32m--> 642\u001b[0;31m                 'http', request, response, code, msg, hdrs)\n\u001b[0m\u001b[1;32m    643\u001b[0m \u001b[0;34m\u001b[0m\u001b[0m\n\u001b[1;32m    644\u001b[0m         \u001b[0;32mreturn\u001b[0m \u001b[0mresponse\u001b[0m\u001b[0;34m\u001b[0m\u001b[0;34m\u001b[0m\u001b[0m\n",
            "\u001b[0;32m/usr/lib/python3.6/urllib/request.py\u001b[0m in \u001b[0;36merror\u001b[0;34m(self, proto, *args)\u001b[0m\n\u001b[1;32m    562\u001b[0m             \u001b[0mhttp_err\u001b[0m \u001b[0;34m=\u001b[0m \u001b[0;36m0\u001b[0m\u001b[0;34m\u001b[0m\u001b[0;34m\u001b[0m\u001b[0m\n\u001b[1;32m    563\u001b[0m         \u001b[0margs\u001b[0m \u001b[0;34m=\u001b[0m \u001b[0;34m(\u001b[0m\u001b[0mdict\u001b[0m\u001b[0;34m,\u001b[0m \u001b[0mproto\u001b[0m\u001b[0;34m,\u001b[0m \u001b[0mmeth_name\u001b[0m\u001b[0;34m)\u001b[0m \u001b[0;34m+\u001b[0m \u001b[0margs\u001b[0m\u001b[0;34m\u001b[0m\u001b[0;34m\u001b[0m\u001b[0m\n\u001b[0;32m--> 564\u001b[0;31m         \u001b[0mresult\u001b[0m \u001b[0;34m=\u001b[0m \u001b[0mself\u001b[0m\u001b[0;34m.\u001b[0m\u001b[0m_call_chain\u001b[0m\u001b[0;34m(\u001b[0m\u001b[0;34m*\u001b[0m\u001b[0margs\u001b[0m\u001b[0;34m)\u001b[0m\u001b[0;34m\u001b[0m\u001b[0;34m\u001b[0m\u001b[0m\n\u001b[0m\u001b[1;32m    565\u001b[0m         \u001b[0;32mif\u001b[0m \u001b[0mresult\u001b[0m\u001b[0;34m:\u001b[0m\u001b[0;34m\u001b[0m\u001b[0;34m\u001b[0m\u001b[0m\n\u001b[1;32m    566\u001b[0m             \u001b[0;32mreturn\u001b[0m \u001b[0mresult\u001b[0m\u001b[0;34m\u001b[0m\u001b[0;34m\u001b[0m\u001b[0m\n",
            "\u001b[0;32m/usr/lib/python3.6/urllib/request.py\u001b[0m in \u001b[0;36m_call_chain\u001b[0;34m(self, chain, kind, meth_name, *args)\u001b[0m\n\u001b[1;32m    502\u001b[0m         \u001b[0;32mfor\u001b[0m \u001b[0mhandler\u001b[0m \u001b[0;32min\u001b[0m \u001b[0mhandlers\u001b[0m\u001b[0;34m:\u001b[0m\u001b[0;34m\u001b[0m\u001b[0;34m\u001b[0m\u001b[0m\n\u001b[1;32m    503\u001b[0m             \u001b[0mfunc\u001b[0m \u001b[0;34m=\u001b[0m \u001b[0mgetattr\u001b[0m\u001b[0;34m(\u001b[0m\u001b[0mhandler\u001b[0m\u001b[0;34m,\u001b[0m \u001b[0mmeth_name\u001b[0m\u001b[0;34m)\u001b[0m\u001b[0;34m\u001b[0m\u001b[0;34m\u001b[0m\u001b[0m\n\u001b[0;32m--> 504\u001b[0;31m             \u001b[0mresult\u001b[0m \u001b[0;34m=\u001b[0m \u001b[0mfunc\u001b[0m\u001b[0;34m(\u001b[0m\u001b[0;34m*\u001b[0m\u001b[0margs\u001b[0m\u001b[0;34m)\u001b[0m\u001b[0;34m\u001b[0m\u001b[0;34m\u001b[0m\u001b[0m\n\u001b[0m\u001b[1;32m    505\u001b[0m             \u001b[0;32mif\u001b[0m \u001b[0mresult\u001b[0m \u001b[0;32mis\u001b[0m \u001b[0;32mnot\u001b[0m \u001b[0;32mNone\u001b[0m\u001b[0;34m:\u001b[0m\u001b[0;34m\u001b[0m\u001b[0;34m\u001b[0m\u001b[0m\n\u001b[1;32m    506\u001b[0m                 \u001b[0;32mreturn\u001b[0m \u001b[0mresult\u001b[0m\u001b[0;34m\u001b[0m\u001b[0;34m\u001b[0m\u001b[0m\n",
            "\u001b[0;32m/usr/lib/python3.6/urllib/request.py\u001b[0m in \u001b[0;36mhttp_error_302\u001b[0;34m(self, req, fp, code, msg, headers)\u001b[0m\n\u001b[1;32m    754\u001b[0m         \u001b[0mfp\u001b[0m\u001b[0;34m.\u001b[0m\u001b[0mclose\u001b[0m\u001b[0;34m(\u001b[0m\u001b[0;34m)\u001b[0m\u001b[0;34m\u001b[0m\u001b[0;34m\u001b[0m\u001b[0m\n\u001b[1;32m    755\u001b[0m \u001b[0;34m\u001b[0m\u001b[0m\n\u001b[0;32m--> 756\u001b[0;31m         \u001b[0;32mreturn\u001b[0m \u001b[0mself\u001b[0m\u001b[0;34m.\u001b[0m\u001b[0mparent\u001b[0m\u001b[0;34m.\u001b[0m\u001b[0mopen\u001b[0m\u001b[0;34m(\u001b[0m\u001b[0mnew\u001b[0m\u001b[0;34m,\u001b[0m \u001b[0mtimeout\u001b[0m\u001b[0;34m=\u001b[0m\u001b[0mreq\u001b[0m\u001b[0;34m.\u001b[0m\u001b[0mtimeout\u001b[0m\u001b[0;34m)\u001b[0m\u001b[0;34m\u001b[0m\u001b[0;34m\u001b[0m\u001b[0m\n\u001b[0m\u001b[1;32m    757\u001b[0m \u001b[0;34m\u001b[0m\u001b[0m\n\u001b[1;32m    758\u001b[0m     \u001b[0mhttp_error_301\u001b[0m \u001b[0;34m=\u001b[0m \u001b[0mhttp_error_303\u001b[0m \u001b[0;34m=\u001b[0m \u001b[0mhttp_error_307\u001b[0m \u001b[0;34m=\u001b[0m \u001b[0mhttp_error_302\u001b[0m\u001b[0;34m\u001b[0m\u001b[0;34m\u001b[0m\u001b[0m\n",
            "\u001b[0;32m/usr/lib/python3.6/urllib/request.py\u001b[0m in \u001b[0;36mopen\u001b[0;34m(self, fullurl, data, timeout)\u001b[0m\n\u001b[1;32m    530\u001b[0m         \u001b[0;32mfor\u001b[0m \u001b[0mprocessor\u001b[0m \u001b[0;32min\u001b[0m \u001b[0mself\u001b[0m\u001b[0;34m.\u001b[0m\u001b[0mprocess_response\u001b[0m\u001b[0;34m.\u001b[0m\u001b[0mget\u001b[0m\u001b[0;34m(\u001b[0m\u001b[0mprotocol\u001b[0m\u001b[0;34m,\u001b[0m \u001b[0;34m[\u001b[0m\u001b[0;34m]\u001b[0m\u001b[0;34m)\u001b[0m\u001b[0;34m:\u001b[0m\u001b[0;34m\u001b[0m\u001b[0;34m\u001b[0m\u001b[0m\n\u001b[1;32m    531\u001b[0m             \u001b[0mmeth\u001b[0m \u001b[0;34m=\u001b[0m \u001b[0mgetattr\u001b[0m\u001b[0;34m(\u001b[0m\u001b[0mprocessor\u001b[0m\u001b[0;34m,\u001b[0m \u001b[0mmeth_name\u001b[0m\u001b[0;34m)\u001b[0m\u001b[0;34m\u001b[0m\u001b[0;34m\u001b[0m\u001b[0m\n\u001b[0;32m--> 532\u001b[0;31m             \u001b[0mresponse\u001b[0m \u001b[0;34m=\u001b[0m \u001b[0mmeth\u001b[0m\u001b[0;34m(\u001b[0m\u001b[0mreq\u001b[0m\u001b[0;34m,\u001b[0m \u001b[0mresponse\u001b[0m\u001b[0;34m)\u001b[0m\u001b[0;34m\u001b[0m\u001b[0;34m\u001b[0m\u001b[0m\n\u001b[0m\u001b[1;32m    533\u001b[0m \u001b[0;34m\u001b[0m\u001b[0m\n\u001b[1;32m    534\u001b[0m         \u001b[0;32mreturn\u001b[0m \u001b[0mresponse\u001b[0m\u001b[0;34m\u001b[0m\u001b[0;34m\u001b[0m\u001b[0m\n",
            "\u001b[0;32m/usr/lib/python3.6/urllib/request.py\u001b[0m in \u001b[0;36mhttp_response\u001b[0;34m(self, request, response)\u001b[0m\n\u001b[1;32m    640\u001b[0m         \u001b[0;32mif\u001b[0m \u001b[0;32mnot\u001b[0m \u001b[0;34m(\u001b[0m\u001b[0;36m200\u001b[0m \u001b[0;34m<=\u001b[0m \u001b[0mcode\u001b[0m \u001b[0;34m<\u001b[0m \u001b[0;36m300\u001b[0m\u001b[0;34m)\u001b[0m\u001b[0;34m:\u001b[0m\u001b[0;34m\u001b[0m\u001b[0;34m\u001b[0m\u001b[0m\n\u001b[1;32m    641\u001b[0m             response = self.parent.error(\n\u001b[0;32m--> 642\u001b[0;31m                 'http', request, response, code, msg, hdrs)\n\u001b[0m\u001b[1;32m    643\u001b[0m \u001b[0;34m\u001b[0m\u001b[0m\n\u001b[1;32m    644\u001b[0m         \u001b[0;32mreturn\u001b[0m \u001b[0mresponse\u001b[0m\u001b[0;34m\u001b[0m\u001b[0;34m\u001b[0m\u001b[0m\n",
            "\u001b[0;32m/usr/lib/python3.6/urllib/request.py\u001b[0m in \u001b[0;36merror\u001b[0;34m(self, proto, *args)\u001b[0m\n\u001b[1;32m    568\u001b[0m         \u001b[0;32mif\u001b[0m \u001b[0mhttp_err\u001b[0m\u001b[0;34m:\u001b[0m\u001b[0;34m\u001b[0m\u001b[0;34m\u001b[0m\u001b[0m\n\u001b[1;32m    569\u001b[0m             \u001b[0margs\u001b[0m \u001b[0;34m=\u001b[0m \u001b[0;34m(\u001b[0m\u001b[0mdict\u001b[0m\u001b[0;34m,\u001b[0m \u001b[0;34m'default'\u001b[0m\u001b[0;34m,\u001b[0m \u001b[0;34m'http_error_default'\u001b[0m\u001b[0;34m)\u001b[0m \u001b[0;34m+\u001b[0m \u001b[0morig_args\u001b[0m\u001b[0;34m\u001b[0m\u001b[0;34m\u001b[0m\u001b[0m\n\u001b[0;32m--> 570\u001b[0;31m             \u001b[0;32mreturn\u001b[0m \u001b[0mself\u001b[0m\u001b[0;34m.\u001b[0m\u001b[0m_call_chain\u001b[0m\u001b[0;34m(\u001b[0m\u001b[0;34m*\u001b[0m\u001b[0margs\u001b[0m\u001b[0;34m)\u001b[0m\u001b[0;34m\u001b[0m\u001b[0;34m\u001b[0m\u001b[0m\n\u001b[0m\u001b[1;32m    571\u001b[0m \u001b[0;34m\u001b[0m\u001b[0m\n\u001b[1;32m    572\u001b[0m \u001b[0;31m# XXX probably also want an abstract factory that knows when it makes\u001b[0m\u001b[0;34m\u001b[0m\u001b[0;34m\u001b[0m\u001b[0;34m\u001b[0m\u001b[0m\n",
            "\u001b[0;32m/usr/lib/python3.6/urllib/request.py\u001b[0m in \u001b[0;36m_call_chain\u001b[0;34m(self, chain, kind, meth_name, *args)\u001b[0m\n\u001b[1;32m    502\u001b[0m         \u001b[0;32mfor\u001b[0m \u001b[0mhandler\u001b[0m \u001b[0;32min\u001b[0m \u001b[0mhandlers\u001b[0m\u001b[0;34m:\u001b[0m\u001b[0;34m\u001b[0m\u001b[0;34m\u001b[0m\u001b[0m\n\u001b[1;32m    503\u001b[0m             \u001b[0mfunc\u001b[0m \u001b[0;34m=\u001b[0m \u001b[0mgetattr\u001b[0m\u001b[0;34m(\u001b[0m\u001b[0mhandler\u001b[0m\u001b[0;34m,\u001b[0m \u001b[0mmeth_name\u001b[0m\u001b[0;34m)\u001b[0m\u001b[0;34m\u001b[0m\u001b[0;34m\u001b[0m\u001b[0m\n\u001b[0;32m--> 504\u001b[0;31m             \u001b[0mresult\u001b[0m \u001b[0;34m=\u001b[0m \u001b[0mfunc\u001b[0m\u001b[0;34m(\u001b[0m\u001b[0;34m*\u001b[0m\u001b[0margs\u001b[0m\u001b[0;34m)\u001b[0m\u001b[0;34m\u001b[0m\u001b[0;34m\u001b[0m\u001b[0m\n\u001b[0m\u001b[1;32m    505\u001b[0m             \u001b[0;32mif\u001b[0m \u001b[0mresult\u001b[0m \u001b[0;32mis\u001b[0m \u001b[0;32mnot\u001b[0m \u001b[0;32mNone\u001b[0m\u001b[0;34m:\u001b[0m\u001b[0;34m\u001b[0m\u001b[0;34m\u001b[0m\u001b[0m\n\u001b[1;32m    506\u001b[0m                 \u001b[0;32mreturn\u001b[0m \u001b[0mresult\u001b[0m\u001b[0;34m\u001b[0m\u001b[0;34m\u001b[0m\u001b[0m\n",
            "\u001b[0;32m/usr/lib/python3.6/urllib/request.py\u001b[0m in \u001b[0;36mhttp_error_default\u001b[0;34m(self, req, fp, code, msg, hdrs)\u001b[0m\n\u001b[1;32m    648\u001b[0m \u001b[0;32mclass\u001b[0m \u001b[0mHTTPDefaultErrorHandler\u001b[0m\u001b[0;34m(\u001b[0m\u001b[0mBaseHandler\u001b[0m\u001b[0;34m)\u001b[0m\u001b[0;34m:\u001b[0m\u001b[0;34m\u001b[0m\u001b[0;34m\u001b[0m\u001b[0m\n\u001b[1;32m    649\u001b[0m     \u001b[0;32mdef\u001b[0m \u001b[0mhttp_error_default\u001b[0m\u001b[0;34m(\u001b[0m\u001b[0mself\u001b[0m\u001b[0;34m,\u001b[0m \u001b[0mreq\u001b[0m\u001b[0;34m,\u001b[0m \u001b[0mfp\u001b[0m\u001b[0;34m,\u001b[0m \u001b[0mcode\u001b[0m\u001b[0;34m,\u001b[0m \u001b[0mmsg\u001b[0m\u001b[0;34m,\u001b[0m \u001b[0mhdrs\u001b[0m\u001b[0;34m)\u001b[0m\u001b[0;34m:\u001b[0m\u001b[0;34m\u001b[0m\u001b[0;34m\u001b[0m\u001b[0m\n\u001b[0;32m--> 650\u001b[0;31m         \u001b[0;32mraise\u001b[0m \u001b[0mHTTPError\u001b[0m\u001b[0;34m(\u001b[0m\u001b[0mreq\u001b[0m\u001b[0;34m.\u001b[0m\u001b[0mfull_url\u001b[0m\u001b[0;34m,\u001b[0m \u001b[0mcode\u001b[0m\u001b[0;34m,\u001b[0m \u001b[0mmsg\u001b[0m\u001b[0;34m,\u001b[0m \u001b[0mhdrs\u001b[0m\u001b[0;34m,\u001b[0m \u001b[0mfp\u001b[0m\u001b[0;34m)\u001b[0m\u001b[0;34m\u001b[0m\u001b[0;34m\u001b[0m\u001b[0m\n\u001b[0m\u001b[1;32m    651\u001b[0m \u001b[0;34m\u001b[0m\u001b[0m\n\u001b[1;32m    652\u001b[0m \u001b[0;32mclass\u001b[0m \u001b[0mHTTPRedirectHandler\u001b[0m\u001b[0;34m(\u001b[0m\u001b[0mBaseHandler\u001b[0m\u001b[0;34m)\u001b[0m\u001b[0;34m:\u001b[0m\u001b[0;34m\u001b[0m\u001b[0;34m\u001b[0m\u001b[0m\n",
            "\u001b[0;31mHTTPError\u001b[0m: HTTP Error 429: Too Many Requests"
          ]
        }
      ]
    },
    {
      "cell_type": "code",
      "metadata": {
        "id": "0LyBjAPnnn_z",
        "colab_type": "code",
        "outputId": "86d1c499-9c89-4425-8c47-2759e8b0ef4e",
        "colab": {
          "base_uri": "https://localhost:8080/",
          "height": 34
        }
      },
      "source": [
        "!git clone https://github.com/google/fonts.git\n",
        "WIDTH=128\n",
        "HEIGHT=64\n",
        "WIDTH_BACK=128\n",
        "HEIGHT_BACK=64\n",
        "\n",
        "paths=glob('**/*.ttf', recursive=True)\n",
        "fnts=[]\n",
        "for fnt in paths:\n",
        "  fnts.append(ImageFont.truetype(fnt, 20))\n"
      ],
      "execution_count": 2,
      "outputs": [
        {
          "output_type": "stream",
          "text": [
            "fatal: destination path 'fonts' already exists and is not an empty directory.\n"
          ],
          "name": "stdout"
        }
      ]
    },
    {
      "cell_type": "code",
      "metadata": {
        "id": "vgWnnkVVMVS7",
        "colab_type": "code",
        "outputId": "3eadb31c-1e80-4a68-b361-cfbd0536bb18",
        "colab": {
          "base_uri": "https://localhost:8080/",
          "height": 235
        }
      },
      "source": [
        "\n",
        "def generateImage(text,text2,fnt,color,color_back,x_margin=10,y_margin=0):\n",
        "  array=np.ones((HEIGHT,WIDTH,4),dtype='uint8')\n",
        "  \n",
        "  array[:,:,0:3]=array[:,:,0:3]*color_back\n",
        "  array[:,:,-1]=array[:,:,-1]*255 \n",
        "\n",
        "\n",
        "  base = Image.fromarray(array)\n",
        "  txt = Image.new('RGBA', base.size, (color,color,color,0))\n",
        "  # fnt = ImageFont.truetype('segoe-ui.ttf', 20)\n",
        "  # fnt = ImageFont.truetype('./fonts/ofl/londrinasolid/LondrinaSolid-Black.ttf', 20)\n",
        "  d = ImageDraw.Draw(txt)\n",
        "  d.text((x_margin,y_margin), text, font=fnt, fill=(color,color,color,255))\n",
        "  d.text((x_margin,30), text2, font=fnt, fill=(color,color,color,255))\n",
        "  out = Image.alpha_composite(base, txt)\n",
        "  return np.array(out) \n",
        "\n",
        "\n",
        "def showimages(data):\n",
        "    l = data.shape[0]\n",
        "    \n",
        "    a = int(l**0.5) if l**0.5%1==0 else int(l**0.5)+1\n",
        "    if len(data.shape)==4:\n",
        "      result = np.zeros((a*data.shape[1],a*data.shape[2],data.shape[3]),dtype='uint8')\n",
        "      for idx,img  in enumerate(data):\n",
        "        y1,y2,x1,x2 =int(idx/a)*data.shape[1],int(1+idx/a)*data.shape[1],data.shape[2]*(idx%a),data.shape[2]*(idx%a+1) \n",
        "        result[y1:y2,x1:x2,:] = img\n",
        "      plt.figure(figsize=(20,20))\n",
        "      plt.imshow(result[:,:,0],'gray')\n",
        "  \n",
        "    else:\n",
        "      result = np.zeros((a*data.shape[1],a*data.shape[2]),dtype='uint8')\n",
        "      for idx,img  in enumerate(data):\n",
        "          y1,y2,x1,x2 =int(idx/a)*data.shape[1],int(1+idx/a)*data.shape[1],data.shape[2]*(idx%a),data.shape[2]*(idx%a+1) \n",
        "          result[y1:y2,x1:x2] = img\n",
        "      plt.figure(figsize=(20,20))\n",
        "      plt.imshow(result,'gray')\n",
        "      \n",
        "    plt.axis('off')\n",
        "\n",
        "\n",
        "img = generateImage('2:25 PM','10/1/2019',fnts[5],225,20)\n",
        "plt.imshow(img)\n",
        "\n",
        "\n"
      ],
      "execution_count": 3,
      "outputs": [
        {
          "output_type": "execute_result",
          "data": {
            "text/plain": [
              "<matplotlib.image.AxesImage at 0x7f61f41833c8>"
            ]
          },
          "metadata": {
            "tags": []
          },
          "execution_count": 3
        },
        {
          "output_type": "display_data",
          "data": {
            "image/png": "[encoded data removed]",
            "text/plain": [
              "<Figure size 432x288 with 1 Axes>"
            ]
          },
          "metadata": {
            "tags": [],
            "needs_background": "light"
          }
        }
      ]
    },
    {
      "cell_type": "code",
      "metadata": {
        "id": "k_qYBSlhByZk",
        "colab_type": "code",
        "colab": {}
      },
      "source": [
        ""
      ],
      "execution_count": 0,
      "outputs": []
    },
    {
      "cell_type": "code",
      "metadata": {
        "id": "oFxocpSGcE-i",
        "colab_type": "code",
        "outputId": "49e8baba-7b4d-4706-8af4-cd653aefbcf9",
        "colab": {
          "base_uri": "https://localhost:8080/",
          "height": 834
        }
      },
      "source": [
        "tensorflow.keras.backend.clear_session()\n",
        "k.clear_session()\n",
        "main_input = Input(shape=(64,128,1), name='main_input')\n",
        "x= BatchNormalization()(main_input)\n",
        "x = Conv2D(32, (3, 3), activation='relu')(x)\n",
        "x= MaxPooling2D(pool_size=(2, 2))(x)\n",
        "x= BatchNormalization()(x)\n",
        "x = Conv2D(32, (3, 3), activation='relu')(x)\n",
        "x= MaxPooling2D(pool_size=(2, 2))(x)\n",
        "x= BatchNormalization()(x)\n",
        "x = Conv2D(32, (3, 3), activation='relu')(x)\n",
        "x= MaxPooling2D(pool_size=(2, 2))(x)\n",
        "x= BatchNormalization()(x)\n",
        "x = Conv2D(32, (3, 3), activation='relu')(x)\n",
        "x= MaxPooling2D(pool_size=(2, 2))(x)\n",
        "x= BatchNormalization()(x)\n",
        "x =Flatten()(x)\n",
        "x =Dense(64, activation='relu')(x)\n",
        "x= BatchNormalization()(x)\n",
        "hour_output =Dense(24, activation='softmax', name='hour_output')(x)\n",
        "minute_output =Dense(60, activation='softmax', name='minute_output')(x)\n",
        "\n",
        "model = Model(inputs=[main_input], outputs=[hour_output,minute_output])\n",
        "# model.compile(optimizer='adam', loss='binary_crossentropy')\n",
        "# model.compile(loss='binary_crossentropy', optimizer='adam',metrics=['accuracy'])\n",
        "model.compile(optimizer='adam',\n",
        "              loss={'hour_output': 'categorical_crossentropy', 'minute_output': 'categorical_crossentropy'},metrics=['acc'])\n",
        "\n",
        "\n",
        "# And trained it via:\n",
        "model.summary()"
      ],
      "execution_count": 4,
      "outputs": [
        {
          "output_type": "stream",
          "text": [
            "Model: \"model\"\n",
            "__________________________________________________________________________________________________\n",
            "Layer (type)                    Output Shape         Param #     Connected to                     \n",
            "==================================================================================================\n",
            "main_input (InputLayer)         [(None, 64, 128, 1)] 0                                            \n",
            "__________________________________________________________________________________________________\n",
            "batch_normalization (BatchNorma (None, 64, 128, 1)   4           main_input[0][0]                 \n",
            "__________________________________________________________________________________________________\n",
            "conv2d (Conv2D)                 (None, 62, 126, 32)  320         batch_normalization[0][0]        \n",
            "__________________________________________________________________________________________________\n",
            "max_pooling2d (MaxPooling2D)    (None, 31, 63, 32)   0           conv2d[0][0]                     \n",
            "__________________________________________________________________________________________________\n",
            "batch_normalization_1 (BatchNor (None, 31, 63, 32)   128         max_pooling2d[0][0]              \n",
            "__________________________________________________________________________________________________\n",
            "conv2d_1 (Conv2D)               (None, 29, 61, 32)   9248        batch_normalization_1[0][0]      \n",
            "__________________________________________________________________________________________________\n",
            "max_pooling2d_1 (MaxPooling2D)  (None, 14, 30, 32)   0           conv2d_1[0][0]                   \n",
            "__________________________________________________________________________________________________\n",
            "batch_normalization_2 (BatchNor (None, 14, 30, 32)   128         max_pooling2d_1[0][0]            \n",
            "__________________________________________________________________________________________________\n",
            "conv2d_2 (Conv2D)               (None, 12, 28, 32)   9248        batch_normalization_2[0][0]      \n",
            "__________________________________________________________________________________________________\n",
            "max_pooling2d_2 (MaxPooling2D)  (None, 6, 14, 32)    0           conv2d_2[0][0]                   \n",
            "__________________________________________________________________________________________________\n",
            "batch_normalization_3 (BatchNor (None, 6, 14, 32)    128         max_pooling2d_2[0][0]            \n",
            "__________________________________________________________________________________________________\n",
            "conv2d_3 (Conv2D)               (None, 4, 12, 32)    9248        batch_normalization_3[0][0]      \n",
            "__________________________________________________________________________________________________\n",
            "max_pooling2d_3 (MaxPooling2D)  (None, 2, 6, 32)     0           conv2d_3[0][0]                   \n",
            "__________________________________________________________________________________________________\n",
            "batch_normalization_4 (BatchNor (None, 2, 6, 32)     128         max_pooling2d_3[0][0]            \n",
            "__________________________________________________________________________________________________\n",
            "flatten (Flatten)               (None, 384)          0           batch_normalization_4[0][0]      \n",
            "__________________________________________________________________________________________________\n",
            "dense (Dense)                   (None, 64)           24640       flatten[0][0]                    \n",
            "__________________________________________________________________________________________________\n",
            "batch_normalization_5 (BatchNor (None, 64)           256         dense[0][0]                      \n",
            "__________________________________________________________________________________________________\n",
            "hour_output (Dense)             (None, 24)           1560        batch_normalization_5[0][0]      \n",
            "__________________________________________________________________________________________________\n",
            "minute_output (Dense)           (None, 60)           3900        batch_normalization_5[0][0]      \n",
            "==================================================================================================\n",
            "Total params: 58,936\n",
            "Trainable params: 58,550\n",
            "Non-trainable params: 386\n",
            "__________________________________________________________________________________________________\n"
          ],
          "name": "stdout"
        }
      ]
    },
    {
      "cell_type": "code",
      "metadata": {
        "id": "n_Srqu32_W7c",
        "colab_type": "code",
        "colab": {}
      },
      "source": [
        "print(video_images.shape,images.shape)\n",
        "bks=[]\n",
        "for i in range(50):\n",
        "  factor = np.random.uniform(low=0.6, high=.95, size=None)\n",
        "  img = cv2.resize(images[i,:,:,0],None,fx=factor,fy=factor)\n",
        "  \n",
        "  x_margin= np.random.randint(0,WIDTH-img.shape[1])\n",
        "  y_margin= np.random.randint(0,HEIGHT -img.shape[0])\n",
        "  bk= 255-video_images[i,:,:].copy()\n",
        "  bk[y_margin:y_margin+img.shape[0],x_margin:x_margin+img.shape[1]] =img\n",
        "  bks.append(bk)\n",
        "showimages(np.asarray(bks))\n"
      ],
      "execution_count": 0,
      "outputs": []
    },
    {
      "cell_type": "code",
      "metadata": {
        "id": "rzv5P30PYsOW",
        "colab_type": "code",
        "colab": {}
      },
      "source": [
        "\n",
        "\n",
        "paths_v=glob('**/*.mp4', recursive=True)\n",
        "def f(q,paths):\n",
        "    for path in paths:\n",
        "      cap = cv2.VideoCapture(path)\n",
        "      ret =True\n",
        "      while ret:\n",
        "          ret, frame = cap.read()\n",
        "          if  not ret:\n",
        "              break\n",
        "          x_m= np.random.randint(WIDTH,frame.shape[1])\n",
        "          y_m= np.random.randint(HEIGHT,frame.shape[0])\n",
        "          time_img =frame[y_m-HEIGHT:y_m,x_m-WIDTH:x_m,:]\n",
        "          q.put((False,time_img))\n",
        "      cap.release()\n",
        "    q.put((True,None))\n",
        "\n",
        "q = Queue(512)\n",
        "p = Process(target=f, args=(q,paths_v))\n",
        "p.start()\n",
        "\n",
        "\n",
        "ini= time.time()\n",
        "cnt =0\n",
        "try:\n",
        "  while True:\n",
        "      if cnt%1000==0:\n",
        "          print (q.qsize(),cnt,cnt/(time.time()-ini))\n",
        "      ret,frame = q.get()\n",
        "\n",
        "      if ret:\n",
        "          break\n",
        "      gray = cv2.cvtColor(frame, cv2.COLOR_BGR2GRAY)\n",
        "      gray=cv2.resize(gray,(128,64))\n",
        "      video_images[cnt,:,:,0] = gray.astype('float32')\n",
        "      cnt+=1\n",
        "      if cnt>=limit:\n",
        "          break\n",
        "  p.join()\n",
        "  p.terminate()\n",
        "  del q\n",
        "\n",
        "except Exception as e:\n",
        "  print(e)\n",
        "  del q\n",
        "  p.join()\n",
        "  p.terminate()\n"
      ],
      "execution_count": 0,
      "outputs": []
    },
    {
      "cell_type": "code",
      "metadata": {
        "id": "yo6MF7u0Jfzy",
        "colab_type": "code",
        "colab": {}
      },
      "source": [
        "from tensorflow.keras.utils import Sequence\n",
        "\n",
        "class MySequence(Sequence):\n",
        "\n",
        "    def __init__(self, epoch_size, batch_size):\n",
        "        self.batch_size = batch_size\n",
        "        self.epoch_size = epoch_size\n",
        "\n",
        "    def __len__(self):\n",
        "        return math.ceil(self.epoch_size / self.batch_size)\n",
        "\n",
        "    def __getitem__(self, idx):\n",
        "      images= np.zeros((self.batch_size,HEIGHT,WIDTH,1))\n",
        "      hours = []\n",
        "      minutes = []\n",
        "      idx=0\n",
        "      complements= ['', ' AM',' PM',' am',' pm']\n",
        "          \n",
        "      while idx<self.batch_size:\n",
        "        try:\n",
        "          fnt_num =np.random.randint(len(fnts))\n",
        "          hour=  np.random.randint(1,25)\n",
        "          minute = np.random.randint(60)\n",
        "          comp ='' if minute>9 else '0'\n",
        "          hour_text =str(hour)+':'+comp+ str(minute)+random.choice(complements)\n",
        "          w,h=fnts[fnt_num].getsize(hour_text)\n",
        "          x_margin= np.random.randint(0,WIDTH-w)\n",
        "          y_margin= np.random.randint(0,HEIGHT/2-h)\n",
        "          \n",
        "          day=  str(np.random.randint(1,32))\n",
        "          month = str(np.random.randint(1,13))\n",
        "          year = str(np.random.randint(2020,2030))\n",
        "          year_text = day+'/'+month+'/'+year\n",
        "\n",
        "          color = np.random.randint(192,254)\n",
        "          color_back = np.random.randint(0,48)\n",
        "          img=generateImage(hour_text,year_text,fnts[fnt_num],color=color,color_back=color_back,x_margin=x_margin,y_margin=y_margin)\n",
        "          images[idx,:,:,0] = cv2.cvtColor(img, cv2.COLOR_BGR2GRAY) #+ np.random.randint(0, high=20, size=(HEIGHT,WIDTH), dtype='uint8')\n",
        "          hours.append(hour)\n",
        "          minutes.append(minute)\n",
        "          idx+=1\n",
        "\n",
        "        except Exception as e:\n",
        "          pass\n",
        "      return images,{'hour_output': to_categorical(np.asanyarray(hours)-1, num_classes=24, dtype='float32'),\n",
        "                       'minute_output': to_categorical(minutes, num_classes=60, dtype='float32')} \n"
      ],
      "execution_count": 0,
      "outputs": []
    },
    {
      "cell_type": "code",
      "metadata": {
        "id": "SPCzXyQy8a40",
        "colab_type": "code",
        "outputId": "6c436b6e-23c0-49f1-ded7-b23a635d0ba8",
        "colab": {
          "base_uri": "https://localhost:8080/",
          "height": 72
        }
      },
      "source": [
        "\n",
        "history = model.fit(MySequence(250000,32),\n",
        "          epochs=10, batch_size=32,use_multiprocessing=False)\n",
        "\n",
        "# history = model.fit({'main_input': images},\n",
        "#           {'hour_output': hours_categorical, 'minute_output': minutes_categorical},\n",
        "#           epochs=10, batch_size=32,validation_split=0.15)"
      ],
      "execution_count": 0,
      "outputs": [
        {
          "output_type": "stream",
          "text": [
            "Epoch 1/10\n",
            " 174/7813 [..............................] - ETA: 31:44 - loss: 7.4959 - hour_output_loss: 3.2825 - minute_output_loss: 4.2134 - hour_output_acc: 0.0462 - minute_output_acc: 0.0176"
          ],
          "name": "stdout"
        }
      ]
    },
    {
      "cell_type": "code",
      "metadata": {
        "id": "ldIWaVDh-jc6",
        "colab_type": "code",
        "colab": {}
      },
      "source": [
        "plt.plot(history.history['minute_output_acc'])\n",
        "plt.plot(history.history['val_minute_output_acc'])\n",
        "plt.title('Model accuracy')\n",
        "plt.ylabel('Accuracy')\n",
        "plt.xlabel('Epoch')\n",
        "plt.legend(['Train', 'Test'], loc='upper left')\n",
        "plt.show()\n",
        "\n",
        "# Plot training & validation loss values\n",
        "plt.plot(history.history['minute_output_loss'])\n",
        "plt.plot(history.history['val_minute_output_loss'])\n",
        "plt.title('Model loss')\n",
        "plt.ylabel('Loss')\n",
        "plt.xlabel('Epoch')\n",
        "plt.legend(['Train', 'Test'], loc='upper left')\n",
        "plt.show()"
      ],
      "execution_count": 0,
      "outputs": []
    },
    {
      "cell_type": "code",
      "metadata": {
        "id": "xAQXjPpzFoDW",
        "colab_type": "code",
        "colab": {}
      },
      "source": [
        "num_samples= 5000\n",
        "test_images= np.zeros((num_samples,HEIGHT,WIDTH,1))\n",
        "test_hours = []\n",
        "test_minutes = []\n",
        "idx=0\n",
        "complements= ['', ' AM',' PM',' am',' pm']\n",
        "for i in range(num_samples):\n",
        "  spaces =np.random.randint(0,2)\n",
        "  hour=  np.random.randint(1,25)\n",
        "  minute = np.random.randint(60)\n",
        "  comp ='' if minute>9 else '0'\n",
        "  \n",
        "  day=  str(np.random.randint(1,32))\n",
        "  month = str(np.random.randint(1,13))\n",
        "  fnt_num =np.random.randint(len(fnts))\n",
        "  \n",
        "  color = np.random.randint(128,254)\n",
        "  color_back = np.random.randint(0,64)\n",
        "  try:\n",
        "    img=generateImage(spaces*' '+ str(hour)+':'+comp+ str(minute)+random.choice(complements), day+'/'+month+'/2019',fnts[fnt_num],color=color,color_back=color_back)\n",
        "    test_images[idx,:,:,0] = cv2.cvtColor(img, cv2.COLOR_BGR2GRAY)\n",
        "    idx+=1\n",
        "    test_hours.append(hour)\n",
        "    test_minutes.append(minute)\n",
        "  except:\n",
        "    pass\n",
        "\n",
        "test_images=test_images[:idx,:,:,:]\n",
        "test_images=test_images[:idx,:,:,:]\n",
        "test_hours_categorical =to_categorical(np.asarray(test_hours)-1, num_classes=24, dtype='float32')\n",
        "test_minutes_categorical =to_categorical(test_minutes, num_classes=60, dtype='float32')\n",
        "model.evaluate({'main_input': test_images},\n",
        "          {'hour_output': test_hours_categorical, 'minute_output': test_minutes_categorical},verbose=1)"
      ],
      "execution_count": 0,
      "outputs": []
    },
    {
      "cell_type": "code",
      "metadata": {
        "id": "TIsJRW_EbckG",
        "colab_type": "code",
        "colab": {}
      },
      "source": [
        "results = model.predict({'main_input': test_images})\n",
        "plt.figure(figsize=(10,20))\n",
        "print(results[0].shape,results[1].shape)\n",
        "for i in range(25):\n",
        "  plt.subplot(5,5,i+1)\n",
        "  plt.imshow(test_images[i,:,:,0],'gray')\n",
        "  plt.title(str(np.argmax(results[0][i,:])+1)+':'+str(np.argmax(results[1][i,:])))\n",
        "# plt.plot(np.argmax(results[1],axis=1))\n"
      ],
      "execution_count": 0,
      "outputs": []
    },
    {
      "cell_type": "code",
      "metadata": {
        "id": "3Z4v6sP0vPta",
        "colab_type": "code",
        "colab": {}
      },
      "source": [
        "results = model.predict({'main_input': test_images})\n",
        "hour_results=np.argmax(results[0],axis=1)\n",
        "errors_idx=hour_results!=test_hours\n",
        "error_images =test_images[errors_idx,:,:,:]\n",
        "error_hours = np.asarray(test_hours)[errors_idx]\n",
        "error_minutes = np.asarray(test_minutes)[errors_idx]\n",
        "\n",
        "print(error_images.shape)\n",
        "plt.figure(figsize=(20,20))\n",
        "\n",
        "for i in range(25):\n",
        "  plt.subplot(5,5,i+1)\n",
        "  plt.imshow(error_images[i,:,:,0],'gray')\n",
        "  plt.title(str(error_hours[i])+str(error_minutes[i]))"
      ],
      "execution_count": 0,
      "outputs": []
    },
    {
      "cell_type": "code",
      "metadata": {
        "id": "CgC6chH6O1pX",
        "colab_type": "code",
        "colab": {}
      },
      "source": [
        "model.save('mymodel.h5')\n",
        "files.download('mymodel.h5') "
      ],
      "execution_count": 0,
      "outputs": []
    },
    {
      "cell_type": "code",
      "metadata": {
        "id": "KkArkCrVJFHJ",
        "colab_type": "code",
        "colab": {}
      },
      "source": [
        "uploaded = files.upload()"
      ],
      "execution_count": 0,
      "outputs": []
    },
    {
      "cell_type": "code",
      "metadata": {
        "id": "oalU-g46QNtj",
        "colab_type": "code",
        "colab": {}
      },
      "source": [
        "cap = cv2.VideoCapture('/content/drive/My Drive/Colab Notebooks/time/output4.avi')\n",
        "video_images=[]\n",
        "while True:\n",
        "  ret, frame = cap.read()\n",
        "  if  not ret:\n",
        "    break\n",
        "  time =frame[730:,1250:1320,:]\n",
        "  resized_test_img=cv2.resize(time,(128,64))\n",
        "  gray = cv2.cvtColor(resized_test_img, cv2.COLOR_BGR2GRAY).astype('float32')\n",
        "  # ret,gray= cv2.threshold(gray,127,255,cv2.THRESH_BINARY)\n",
        "  # gray[32:,:]=0\n",
        "  # gray[:,64:]=0\n",
        "  \n",
        "  video_images.append(gray)\n",
        "\n",
        "  # result = model.predict(gray.reshape((1,64,128,1)))\n",
        "  # print(np.argmax(result[0]),np.argmax(result[1]))\n",
        "video_images= np.asarray(video_images)\n",
        "video_images= video_images.reshape((video_images.shape[0],64,128,1))\n",
        "# plt.imshow(gray,'gray')\n",
        "print(video_images.shape)\n",
        "showimages(video_images[::25,:,:,:])\n"
      ],
      "execution_count": 0,
      "outputs": []
    },
    {
      "cell_type": "code",
      "metadata": {
        "id": "ppvQP89z7nzB",
        "colab_type": "code",
        "colab": {}
      },
      "source": [
        "results = model.predict({'main_input': video_images},batch_size=32)\n",
        "plt.figure(figsize=(10,10))\n",
        "plt.plot(np.argmax(results[0],axis=1))\n",
        "plt.plot(np.argmax(results[1],axis=1))\n",
        "plt.grid()\n",
        "print(np.argmax(results[1],axis=1))"
      ],
      "execution_count": 0,
      "outputs": []
    },
    {
      "cell_type": "code",
      "metadata": {
        "id": "4n0DIoeDv5rI",
        "colab_type": "code",
        "colab": {}
      },
      "source": [
        "! pip install pytube3"
      ],
      "execution_count": 0,
      "outputs": []
    },
    {
      "cell_type": "code",
      "metadata": {
        "id": "4Uhj7S_8mdwx",
        "colab_type": "code",
        "colab": {}
      },
      "source": [
        "test_desktop=np.load('/content/drive/My Drive/Colab Notebooks/time/test.npy')\n"
      ],
      "execution_count": 0,
      "outputs": []
    },
    {
      "cell_type": "code",
      "metadata": {
        "id": "rGKG1AKyb7Yu",
        "colab_type": "code",
        "colab": {}
      },
      "source": [
        "test_desktop.shape"
      ],
      "execution_count": 0,
      "outputs": []
    },
    {
      "cell_type": "code",
      "metadata": {
        "id": "YFI-nDYAcB8w",
        "colab_type": "code",
        "colab": {}
      },
      "source": [
        "showimages(test_desktop[:1440:25,:,:,:])"
      ],
      "execution_count": 0,
      "outputs": []
    },
    {
      "cell_type": "code",
      "metadata": {
        "id": "e2xtIAg_cLJh",
        "colab_type": "code",
        "colab": {}
      },
      "source": [
        "results = model.predict({'main_input': test_desktop},batch_size=32)\n",
        "plt.figure(figsize=(20,10))\n",
        "plt.plot(np.argmax(results[0][:100,:],axis=1))\n",
        "plt.plot(np.argmax(results[1][:100,:],axis=1))\n",
        "plt.grid()\n",
        "print(np.argmax(results[1],axis=1))"
      ],
      "execution_count": 0,
      "outputs": []
    },
    {
      "cell_type": "code",
      "metadata": {
        "id": "6PMiWKRTewj2",
        "colab_type": "code",
        "colab": {}
      },
      "source": [
        ""
      ],
      "execution_count": 0,
      "outputs": []
    },
    {
      "cell_type": "code",
      "metadata": {
        "id": "9e_lN0zX03Av",
        "colab_type": "code",
        "colab": {}
      },
      "source": [
        "# # แสดงผลด้วย vdo tag    ใครงง ก็ไปเรียน HTML ใน Sololearn ได้\n",
        "# mp4 = open('Curso de Windows 10 Vídeo 108 Complemento del teléfono.mp4','rb').read()\n",
        "# data_url = \"data:video/mp4;base64,\" + b64encode(mp4).decode()\n",
        "# HTML(\"\"\"\n",
        "# <video width=1000 controls>\n",
        "#       <source src=\"%s\" type=\"video/mp4\">\n",
        "# </video>\n",
        "# \"\"\" % data_url)\n",
        "\n",
        "drive.mount('/content/drive', force_remount=True)"
      ],
      "execution_count": 0,
      "outputs": []
    },
    {
      "cell_type": "code",
      "metadata": {
        "id": "iVD_LifDHka_",
        "colab_type": "code",
        "colab": {}
      },
      "source": [
        "\n",
        "def compareIamges(im1,im2):\n",
        "    diff = np.mean(np.absolute(im2-im1))\n",
        "    return diff\n",
        "# cap = cv2.VideoCapture('Curso de Windows 10 Vídeo 133 Personalizar usando temas.mp4')\n",
        "# cap = cv2.VideoCapture('/content/drive/My Drive/Colab Notebooks/time/output4.avi')\n",
        "cap = cv2.VideoCapture('/content/Curso de Windows 10 1 Novedades de Windows 10.mp4')\n",
        "\n",
        "_, im1 = cap.read()\n",
        "\n",
        "im1_pillow= Image.fromarray(im1)\n",
        "\n",
        "hashs=[]\n",
        "diff=[]\n",
        "diff_ph=[]\n",
        "while True:\n",
        "    ret, im2 = cap.read()\n",
        "\n",
        "    if  not ret:\n",
        "        break\n",
        "    im2_pillow= Image.fromarray(im2)\n",
        "\n",
        "    hash1 = imagehash.average_hash(im1_pillow)\n",
        "    hash2 = imagehash.average_hash(im2_pillow)\n",
        "    hashs.append(hash1)\n",
        "    diff.append(compareIamges(im1,im2))\n",
        "    diff_ph.append(hash2-hash1)\n",
        "    im1=im2\n",
        "    im1_pillow=im2_pillow\n",
        "    \n",
        "    \n",
        "diff=np.asarray(diff)\n",
        "diff_ph=np.asarray(diff_ph)\n",
        "plt.figure(figsize=(20,20))\n",
        "# plt.plot(hashs)\n",
        "print(np.corrcoef(diff- np.mean(diff),diff_ph- np.mean(diff_ph)))\n",
        "plt.subplot(211)\n",
        "plt.plot(diff,'.')\n",
        "plt.subplot(212)\n",
        "# plt.plot(diff_ph,'.')\n",
        "\n",
        "plt.hist(diff,bins=100)\n",
        "plt.yscale('log')\n"
      ],
      "execution_count": 0,
      "outputs": []
    }
  ]
}